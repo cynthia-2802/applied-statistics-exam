{
 "cells": [
  {
   "cell_type": "code",
   "execution_count": null,
   "metadata": {},
   "outputs": [],
   "source": [
    "import matplotlib.pyplot as plt\n",
    "import numpy as np\n",
    "from scipy import stats\n",
    "from typing import List, Tuple"
   ]
  },
  {
   "cell_type": "markdown",
   "metadata": {},
   "source": [
    "# Part 1"
   ]
  },
  {
   "cell_type": "markdown",
   "metadata": {},
   "source": [
    "## Problem 1"
   ]
  },
  {
   "cell_type": "code",
   "execution_count": null,
   "metadata": {},
   "outputs": [
    {
     "name": "stdout",
     "output_type": "stream",
     "text": [
      "Mean temperature: 86.5\n",
      "Median temperature: 87.5\n",
      "Standard deviation of temperature: 5.986094998689324\n",
      "Interquartile range of temperature: 6.25\n",
      "------------------------------------------------------\n",
      "Q1: 84.25\n",
      "Q3: 90.5\n",
      "Mean temperature: 86.5\n",
      "Median temperature: 87.5\n",
      "Standard deviation of temperature: 5.986094998689324\n",
      "Interquartile range of temperature: 6.25\n",
      "------------------------------------------------------\n",
      "Q1: 84\n",
      "Q3: 91\n",
      "IQR: 7\n"
     ]
    }
   ],
   "source": [
    "temperature = np.array([78, 85, 92, 88, 76, 95, 89, 84, 91, 87])\n",
    "\n",
    "# Numpy solution\n",
    "mean_temperature = np.mean(temperature)\n",
    "median_temperature = np.median(temperature)\n",
    "sd_temperature = np.std(temperature, ddof=1)\n",
    "interquartile_temperature = np.percentile(temperature, 75) - np.percentile(temperature, 25)\n",
    "\n",
    "print(f\"Mean temperature: {mean_temperature}\")\n",
    "print(f\"Median temperature: {median_temperature}\")\n",
    "print(f\"Standard deviation of temperature: {sd_temperature}\")\n",
    "print(f\"Interquartile range of temperature: {interquartile_temperature}\")\n",
    "\n",
    "# Manual solution\n",
    "print(\"-\" * 54)\n",
    "def interquartile_range(data: List[float]) -> float:\n",
    "    \"\"\"\n",
    "    Compute the Interquartile Range (IQR) with linear interpolation.\n",
    "\n",
    "    Args:\n",
    "        data: A list of numerical values.\n",
    "\n",
    "    Returns:\n",
    "        The IQR (75th percentile - 25th percentile), calculated by\n",
    "        linear interpolation between data points.\n",
    "    \"\"\"\n",
    "    if len(data) < 2:\n",
    "        raise ValueError(\"Need at least 2 data points to compute IQR.\")\n",
    "    sorted_data = sorted(data)\n",
    "    n = len(sorted_data)\n",
    "\n",
    "    def interpolate_percentile(p: float) -> float:\n",
    "        pos = (n - 1) * p\n",
    "        lower_index = int(pos)\n",
    "        fraction = pos - lower_index\n",
    "        if lower_index == n - 1:\n",
    "            return sorted_data[-1]\n",
    "        return sorted_data[lower_index] + fraction * (sorted_data[lower_index + 1] - sorted_data[lower_index])\n",
    "\n",
    "    q1 = interpolate_percentile(0.25)\n",
    "    q3 = interpolate_percentile(0.75)\n",
    "    print(f\"Q1: {q1}\")\n",
    "    print(f\"Q3: {q3}\")\n",
    "    return q3 - q1\n",
    "\n",
    "mean_temperature = sum(temperature) / len(temperature)\n",
    "median_temperature = (sorted(temperature)[len(temperature) // 2] + sorted(temperature)[len(temperature) // 2 - 1]) / 2\n",
    "sd_temperature = (sum([(x - mean_temperature) ** 2 for x in temperature]) / (len(temperature) - 1)) ** 0.5\n",
    "interquartile_temperature = interquartile_range(temperature)\n",
    "\n",
    "print(f\"Mean temperature: {mean_temperature}\")\n",
    "print(f\"Median temperature: {median_temperature}\")\n",
    "print(f\"Standard deviation of temperature: {sd_temperature}\")\n",
    "print(f\"Interquartile range of temperature: {interquartile_temperature}\")\n",
    "\n",
    "# Find interquartile range using median\n",
    "print(\"-\" * 54)\n",
    "def find_median(lst: List[float]) -> float:\n",
    "    \"\"\"\n",
    "    Return the median of a non-empty list of numbers.\n",
    "\n",
    "    Args:\n",
    "        lst (List[float]): A non-empty list of numbers.\n",
    "\n",
    "    Returns:\n",
    "        float: The median value.\n",
    "    \"\"\"\n",
    "    sorted_lst = sorted(lst)\n",
    "    n = len(sorted_lst)\n",
    "    mid = n // 2\n",
    "    if n % 2 == 0:\n",
    "        return (sorted_lst[mid - 1] + sorted_lst[mid]) / 2.0\n",
    "    else:\n",
    "        return sorted_lst[mid]\n",
    "\n",
    "def find_quartiles(data: List[float]) -> Tuple[float, float, float]:\n",
    "    \"\"\"\n",
    "    Return the first, second, and third quartiles (Q1, Q2, Q3) of a non-empty list of numbers.\n",
    "\n",
    "    For an odd-length list, the median (Q2) is excluded from both halves when computing Q1 and Q3.\n",
    "    \n",
    "    Args:\n",
    "        data (List[float]): A non-empty list of numbers.\n",
    "    \n",
    "    Returns:\n",
    "        Tuple[float, float, float]: A tuple containing Q1, Q2, and Q3.\n",
    "    \"\"\"\n",
    "    sorted_data = sorted(data)\n",
    "    n = len(sorted_data)\n",
    "    q2 = find_median(sorted_data)\n",
    "\n",
    "    if n % 2 == 0:\n",
    "        lower_half = sorted_data[:n // 2]\n",
    "        upper_half = sorted_data[n // 2:]\n",
    "    else:\n",
    "        lower_half = sorted_data[:n // 2]\n",
    "        upper_half = sorted_data[n // 2 + 1:]\n",
    "    \n",
    "    q1 = find_median(lower_half)\n",
    "    q3 = find_median(upper_half)\n",
    "    return q1, q2, q3\n",
    "\n",
    "q1, q2, q3 = find_quartiles(temperature)\n",
    "iqr = q3 - q1\n",
    "print(f\"Q1: {q1}\")\n",
    "print(f\"Q3: {q3}\")\n",
    "print(f\"IQR: {iqr}\")"
   ]
  },
  {
   "cell_type": "markdown",
   "metadata": {},
   "source": [
    "## Problem 2"
   ]
  },
  {
   "cell_type": "code",
   "execution_count": 69,
   "metadata": {},
   "outputs": [
    {
     "data": {
      "image/png": "[encoded data removed]",
      "text/plain": [
       "<Figure size 640x480 with 1 Axes>"
      ]
     },
     "metadata": {},
     "output_type": "display_data"
    }
   ],
   "source": [
    "\n",
    "# Histogram of temperature\n",
    "plt.hist(temperature, bins=5, edgecolor=\"black\", color=\"skyblue\")\n",
    "plt.xlabel(\"Temperatures\")\n",
    "plt.ylabel(\"Frequency\")\n",
    "plt.title(\"Histogram of Temperatures\")\n",
    "plt.show()"
   ]
  },
  {
   "cell_type": "code",
   "execution_count": 51,
   "metadata": {},
   "outputs": [
    {
     "data": {
      "image/png": "[encoded data removed]",
      "text/plain": [
       "<Figure size 800x600 with 1 Axes>"
      ]
     },
     "metadata": {},
     "output_type": "display_data"
    }
   ],
   "source": [
    "# Boxplot of temperature\n",
    "plt.figure(figsize=(8, 6))\n",
    "plt.boxplot(temperature, vert=True, patch_artist=True, showfliers=True,\n",
    "            boxprops=dict(facecolor=\"lightgreen\", color=\"black\"),\n",
    "            capprops=dict(color=\"black\"),\n",
    "            whiskerprops=dict(color=\"black\"),\n",
    "            flierprops=dict(marker=\"o\", markerfacecolor=\"red\", markersize=8, linestyle=\"none\"),\n",
    "            medianprops=dict(color=\"orange\", linewidth=2))\n",
    "\n",
    "\n",
    "plt.title(\"Boxplot of Daily Temperatures\")\n",
    "plt.ylabel(\"Temperature (°F)\")\n",
    "plt.xticks([1], [\"Temperatures\"])\n",
    "plt.grid(True)\n",
    "plt.show()"
   ]
  },
  {
   "cell_type": "markdown",
   "metadata": {},
   "source": [
    "# Part 2"
   ]
  },
  {
   "cell_type": "markdown",
   "metadata": {},
   "source": [
    "## Problem 3"
   ]
  },
  {
   "cell_type": "code",
   "execution_count": 67,
   "metadata": {},
   "outputs": [
    {
     "name": "stdout",
     "output_type": "stream",
     "text": [
      "The results are the same.\n",
      "----------------------------------------------------------------------\n",
      "Sample Mean: 148.75 grams\n",
      "Sample Standard Deviation: 2.02 grams\n",
      "T-statistic: -2.763\n",
      "P-value: 0.0124\n",
      "----------------------------------------------------------------------\n",
      "As p-value (0.0124) < alpha (0.05), reject the null hypothesis.\n",
      "Reject the null hypothesis.\n",
      "There is statictiscally sufficient evidence to suggest that the \n",
      "average weight of the fruit is significantly different from 150 grams.\n"
     ]
    }
   ],
   "source": [
    "fruit_weights = np.array(\n",
    "    [\n",
    "        145, 147, 150, 152, 148,\n",
    "        146, 149, 151, 147, 150,\n",
    "        148, 146, 149, 152, 150,\n",
    "        148, 147, 149, 151, 150\n",
    "    ]\n",
    ")\n",
    "\n",
    "population_mean = 150\n",
    "alpha = 0.05\n",
    "\n",
    "sample_mean = np.mean(fruit_weights)\n",
    "sample_std = np.std(fruit_weights, ddof=1)\n",
    "sample_size = len(fruit_weights)\n",
    "\n",
    "# calculate the t-statistic and p-value using scipy\n",
    "t_statistic, p_value = stats.ttest_1samp(fruit_weights, population_mean)\n",
    "\n",
    "# calculate the t-statistic and p-value manually\n",
    "standard_error = sample_std / np.sqrt(sample_size)\n",
    "t_statistic_manual = (sample_mean - population_mean) / standard_error\n",
    "degrees_of_freedom = sample_size - 1\n",
    "p_value_manual = stats.t.cdf(t_statistic_manual, df=degrees_of_freedom)*2\n",
    "\n",
    "if t_statistic == t_statistic_manual and p_value == p_value_manual:\n",
    "    print(\"The results are the same.\")\n",
    "else:\n",
    "    print(\"The results are different.\")\n",
    "\n",
    "print(\"-\"*70)\n",
    "print(f\"Sample Mean: {sample_mean:.2f} grams\")\n",
    "print(f\"Sample Standard Deviation: {sample_std:.2f} grams\")\n",
    "print(f\"T-statistic: {t_statistic:.3f}\")\n",
    "print(f\"P-value: {p_value:.4f}\")\n",
    "print(\"-\"*70)\n",
    "\n",
    "if p_value < alpha:\n",
    "    print(f\"As p-value ({p_value:.4f}) < alpha ({alpha}), reject the null hypothesis.\")\n",
    "    print(\"Reject the null hypothesis.\")\n",
    "    print(\"There is statictiscally sufficient evidence to suggest that the \\naverage weight of the fruit is significantly different from 150 grams.\")\n",
    "else:\n",
    "    print(f\"As p-value ({p_value:.4f}) >= alpha ({alpha}), fail to reject the null hypothesis.\")\n",
    "    print(\"Fail to reject the null hypothesis.\")\n",
    "    print(\"There is not enough evidence to suggest that the average weight of the fruit is significantly different from 150 grams.\")"
   ]
  }
 ],
 "metadata": {
  "kernelspec": {
   "display_name": "applied-statistics-exam",
   "language": "python",
   "name": "applied-statistics-exam"
  },
  "language_info": {
   "codemirror_mode": {
    "name": "ipython",
    "version": 3
   },
   "file_extension": ".py",
   "mimetype": "text/x-python",
   "name": "python",
   "nbconvert_exporter": "python",
   "pygments_lexer": "ipython3",
   "version": "3.8.10"
  }
 },
 "nbformat": 4,
 "nbformat_minor": 2
}
