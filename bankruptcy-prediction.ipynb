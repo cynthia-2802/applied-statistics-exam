{
 "cells": [
  {
   "cell_type": "code",
   "execution_count": 1,
   "metadata": {},
   "outputs": [],
   "source": [
    "import os\n",
    "\n",
    "import numpy as np\n",
    "import pandas as pd\n",
    "import xgboost as xgb\n",
    "from rich import print\n",
    "from sklearn.impute import SimpleImputer\n",
    "from sklearn.metrics import (\n",
    "    classification_report,\n",
    "    confusion_matrix,\n",
    "    precision_recall_curve,\n",
    "    roc_auc_score\n",
    ")\n",
    "from sklearn.model_selection import StratifiedKFold, cross_val_score, train_test_split\n",
    "from sklearn.pipeline import Pipeline\n",
    "\n",
    "\n",
    "pd.set_option('display.max_rows', 500)"
   ]
  },
  {
   "cell_type": "code",
   "execution_count": 2,
   "metadata": {},
   "outputs": [],
   "source": [
    "data_dir = \"./data\"\n",
    "\n",
    "data_frames = []\n",
    "\n",
    "for file_name in os.listdir(data_dir):\n",
    "    if file_name.endswith(\".csv\"):\n",
    "        df = pd.read_csv(os.path.join(data_dir, file_name), sep=\";\", decimal=\",\", na_values=\"NA\")\n",
    "        if \"Unnamed: 0\" in df.columns:\n",
    "            df = df.drop(columns=[\"Unnamed: 0\"])\n",
    "\n",
    "        parts = file_name.split(\"_\")\n",
    "        bankruptcy_status = 0 if \"nonbankrupt\" in parts[0] else 1\n",
    "        industry = parts[1]\n",
    "\n",
    "        df[\"industry_agriculture\"] = 1 if industry == \"agriculture\" else 0\n",
    "        df[\"industry_construction\"] = 1 if industry == \"construction\" else 0\n",
    "        df[\"industry_manufacture\"] = 1 if industry == \"manufacture\" else 0\n",
    "        df[\"industry_retail\"] = 1 if industry == \"retail\" else 0\n",
    "        df[\"bankruptcy_label\"] = bankruptcy_status\n",
    "\n",
    "        data_frames.append(df)\n",
    "\n",
    "combined_df = pd.concat(data_frames, ignore_index=True)\n"
   ]
  },
  {
   "cell_type": "code",
   "execution_count": 3,
   "metadata": {},
   "outputs": [
    {
     "data": {
      "text/html": [
       "<pre style=\"white-space:pre;overflow-x:auto;line-height:normal;font-family:Menlo,'DejaVu Sans Mono',consolas,'Courier New',monospace\">                  V1            V2            V3            V4            V5  \\\n",
       "count   <span style=\"color: #008080; text-decoration-color: #008080; font-weight: bold\">51095.000000</span>  <span style=\"color: #008080; text-decoration-color: #008080; font-weight: bold\">5.103200e+04</span>  <span style=\"color: #008080; text-decoration-color: #008080; font-weight: bold\">4.820800e+04</span>  <span style=\"color: #008080; text-decoration-color: #008080; font-weight: bold\">49158.000000</span>  <span style=\"color: #008080; text-decoration-color: #008080; font-weight: bold\">49247.000000</span>   \n",
       "mean       <span style=\"color: #008080; text-decoration-color: #008080; font-weight: bold\">-7.363870</span> <span style=\"color: #008080; text-decoration-color: #008080; font-weight: bold\">-2.021102e+01</span>  <span style=\"color: #008080; text-decoration-color: #008080; font-weight: bold\">7.121501e+01</span>      <span style=\"color: #008080; text-decoration-color: #008080; font-weight: bold\">9.467094</span>     <span style=\"color: #008080; text-decoration-color: #008080; font-weight: bold\">12.232457</span>   \n",
       "std       <span style=\"color: #008080; text-decoration-color: #008080; font-weight: bold\">752.489636</span>  <span style=\"color: #008080; text-decoration-color: #008080; font-weight: bold\">1.246801e+04</span>  <span style=\"color: #008080; text-decoration-color: #008080; font-weight: bold\">2.649772e+04</span>    <span style=\"color: #008080; text-decoration-color: #008080; font-weight: bold\">275.715999</span>    <span style=\"color: #008080; text-decoration-color: #008080; font-weight: bold\">305.820606</span>   \n",
       "min   <span style=\"color: #008080; text-decoration-color: #008080; font-weight: bold\">-146527.270000</span> <span style=\"color: #008080; text-decoration-color: #008080; font-weight: bold\">-1.975000e+06</span> <span style=\"color: #008080; text-decoration-color: #008080; font-weight: bold\">-6.989966e+05</span>  <span style=\"color: #008080; text-decoration-color: #008080; font-weight: bold\">-8911.000000</span>  <span style=\"color: #008080; text-decoration-color: #008080; font-weight: bold\">-8911.000000</span>   \n",
       "<span style=\"color: #008080; text-decoration-color: #008080; font-weight: bold\">25</span>%        <span style=\"color: #008080; text-decoration-color: #008080; font-weight: bold\">-0.500000</span>  <span style=\"color: #008080; text-decoration-color: #008080; font-weight: bold\">0.000000e+00</span> <span style=\"color: #008080; text-decoration-color: #008080; font-weight: bold\">-8.000000e-02</span>      <span style=\"color: #008080; text-decoration-color: #008080; font-weight: bold\">0.070000</span>      <span style=\"color: #008080; text-decoration-color: #008080; font-weight: bold\">0.540000</span>   \n",
       "<span style=\"color: #008080; text-decoration-color: #008080; font-weight: bold\">50</span>%         <span style=\"color: #008080; text-decoration-color: #008080; font-weight: bold\">2.040000</span>  <span style=\"color: #008080; text-decoration-color: #008080; font-weight: bold\">9.390000e+00</span>  <span style=\"color: #008080; text-decoration-color: #008080; font-weight: bold\">1.670000e+00</span>      <span style=\"color: #008080; text-decoration-color: #008080; font-weight: bold\">0.300000</span>      <span style=\"color: #008080; text-decoration-color: #008080; font-weight: bold\">1.040000</span>   \n",
       "<span style=\"color: #008080; text-decoration-color: #008080; font-weight: bold\">75</span>%         <span style=\"color: #008080; text-decoration-color: #008080; font-weight: bold\">9.810000</span>  <span style=\"color: #008080; text-decoration-color: #008080; font-weight: bold\">3.707000e+01</span>  <span style=\"color: #008080; text-decoration-color: #008080; font-weight: bold\">6.840000e+00</span>      <span style=\"color: #008080; text-decoration-color: #008080; font-weight: bold\">1.120000</span>      <span style=\"color: #008080; text-decoration-color: #008080; font-weight: bold\">2.280000</span>   \n",
       "max     <span style=\"color: #008080; text-decoration-color: #008080; font-weight: bold\">18725.000000</span>  <span style=\"color: #008080; text-decoration-color: #008080; font-weight: bold\">1.735600e+06</span>  <span style=\"color: #008080; text-decoration-color: #008080; font-weight: bold\">5.707100e+06</span>  <span style=\"color: #008080; text-decoration-color: #008080; font-weight: bold\">26201.000000</span>  <span style=\"color: #008080; text-decoration-color: #008080; font-weight: bold\">27699.000000</span>   \n",
       "\n",
       "                 V6            V7            V8            V9           V10  \\\n",
       "count  <span style=\"color: #008080; text-decoration-color: #008080; font-weight: bold\">49202.000000</span>  <span style=\"color: #008080; text-decoration-color: #008080; font-weight: bold\">4.843100e+04</span>  <span style=\"color: #008080; text-decoration-color: #008080; font-weight: bold\">4.566800e+04</span>  <span style=\"color: #008080; text-decoration-color: #008080; font-weight: bold\">4.798800e+04</span>  <span style=\"color: #008080; text-decoration-color: #008080; font-weight: bold\">3.837800e+04</span>   \n",
       "mean      <span style=\"color: #008080; text-decoration-color: #008080; font-weight: bold\">13.262163</span>  <span style=\"color: #008080; text-decoration-color: #008080; font-weight: bold\">5.450944e+03</span>  <span style=\"color: #008080; text-decoration-color: #008080; font-weight: bold\">2.010796e+03</span>  <span style=\"color: #008080; text-decoration-color: #008080; font-weight: bold\">2.409203e+03</span>  <span style=\"color: #008080; text-decoration-color: #008080; font-weight: bold\">2.334857e+02</span>   \n",
       "std      <span style=\"color: #008080; text-decoration-color: #008080; font-weight: bold\">318.808668</span>  <span style=\"color: #008080; text-decoration-color: #008080; font-weight: bold\">3.167082e+05</span>  <span style=\"color: #008080; text-decoration-color: #008080; font-weight: bold\">1.720157e+05</span>  <span style=\"color: #008080; text-decoration-color: #008080; font-weight: bold\">1.670290e+05</span>  <span style=\"color: #008080; text-decoration-color: #008080; font-weight: bold\">1.076977e+04</span>   \n",
       "min    <span style=\"color: #008080; text-decoration-color: #008080; font-weight: bold\">-8911.000000</span> <span style=\"color: #008080; text-decoration-color: #008080; font-weight: bold\">-7.602669e+04</span> <span style=\"color: #008080; text-decoration-color: #008080; font-weight: bold\">-1.463262e+04</span> <span style=\"color: #008080; text-decoration-color: #008080; font-weight: bold\">-1.281545e+05</span> <span style=\"color: #008080; text-decoration-color: #008080; font-weight: bold\">-2.946954e+04</span>   \n",
       "<span style=\"color: #008080; text-decoration-color: #008080; font-weight: bold\">25</span>%        <span style=\"color: #008080; text-decoration-color: #008080; font-weight: bold\">0.910000</span>  <span style=\"color: #008080; text-decoration-color: #008080; font-weight: bold\">1.371900e+02</span>  <span style=\"color: #008080; text-decoration-color: #008080; font-weight: bold\">2.495750e+01</span>  <span style=\"color: #008080; text-decoration-color: #008080; font-weight: bold\">4.231000e+01</span>  <span style=\"color: #008080; text-decoration-color: #008080; font-weight: bold\">7.530000e+00</span>   \n",
       "<span style=\"color: #008080; text-decoration-color: #008080; font-weight: bold\">50</span>%        <span style=\"color: #008080; text-decoration-color: #008080; font-weight: bold\">1.390000</span>  <span style=\"color: #008080; text-decoration-color: #008080; font-weight: bold\">2.350700e+02</span>  <span style=\"color: #008080; text-decoration-color: #008080; font-weight: bold\">5.443500e+01</span>  <span style=\"color: #008080; text-decoration-color: #008080; font-weight: bold\">8.562000e+01</span>  <span style=\"color: #008080; text-decoration-color: #008080; font-weight: bold\">3.120000e+01</span>   \n",
       "<span style=\"color: #008080; text-decoration-color: #008080; font-weight: bold\">75</span>%        <span style=\"color: #008080; text-decoration-color: #008080; font-weight: bold\">2.990000</span>  <span style=\"color: #008080; text-decoration-color: #008080; font-weight: bold\">4.509700e+02</span>  <span style=\"color: #008080; text-decoration-color: #008080; font-weight: bold\">1.051725e+02</span>  <span style=\"color: #008080; text-decoration-color: #008080; font-weight: bold\">1.759450e+02</span>  <span style=\"color: #008080; text-decoration-color: #008080; font-weight: bold\">8.473750e+01</span>   \n",
       "max    <span style=\"color: #008080; text-decoration-color: #008080; font-weight: bold\">33200.000000</span>  <span style=\"color: #008080; text-decoration-color: #008080; font-weight: bold\">4.302540e+07</span>  <span style=\"color: #008080; text-decoration-color: #008080; font-weight: bold\">2.603653e+07</span>  <span style=\"color: #008080; text-decoration-color: #008080; font-weight: bold\">2.255448e+07</span>  <span style=\"color: #008080; text-decoration-color: #008080; font-weight: bold\">1.771038e+06</span>   \n",
       "\n",
       "       <span style=\"color: #808000; text-decoration-color: #808000\">...</span>            V59           V60           V61           V62  \\\n",
       "count  <span style=\"color: #808000; text-decoration-color: #808000\">...</span>   <span style=\"color: #008080; text-decoration-color: #008080; font-weight: bold\">40724.000000</span>  <span style=\"color: #008080; text-decoration-color: #008080; font-weight: bold\">1.804600e+04</span>  <span style=\"color: #008080; text-decoration-color: #008080; font-weight: bold\">51012.000000</span>  <span style=\"color: #008080; text-decoration-color: #008080; font-weight: bold\">50081.000000</span>   \n",
       "mean   <span style=\"color: #808000; text-decoration-color: #808000\">...</span>      <span style=\"color: #008080; text-decoration-color: #008080; font-weight: bold\">23.851035</span>  <span style=\"color: #008080; text-decoration-color: #008080; font-weight: bold\">1.903060e+04</span>      <span style=\"color: #008080; text-decoration-color: #008080; font-weight: bold\">5.978964</span>     <span style=\"color: #008080; text-decoration-color: #008080; font-weight: bold\">22.025242</span>   \n",
       "std    <span style=\"color: #808000; text-decoration-color: #808000\">...</span>    <span style=\"color: #008080; text-decoration-color: #008080; font-weight: bold\">2065.093238</span>  <span style=\"color: #008080; text-decoration-color: #008080; font-weight: bold\">9.703082e+04</span>     <span style=\"color: #008080; text-decoration-color: #008080; font-weight: bold\">20.856127</span>    <span style=\"color: #008080; text-decoration-color: #008080; font-weight: bold\">507.081174</span>   \n",
       "min    <span style=\"color: #808000; text-decoration-color: #808000\">...</span>  <span style=\"color: #008080; text-decoration-color: #008080; font-weight: bold\">-28112.000000</span> <span style=\"color: #008080; text-decoration-color: #008080; font-weight: bold\">-5.224400e+05</span>  <span style=\"color: #008080; text-decoration-color: #008080; font-weight: bold\">-1912.190000</span>   <span style=\"color: #008080; text-decoration-color: #008080; font-weight: bold\">-101.200000</span>   \n",
       "<span style=\"color: #008080; text-decoration-color: #008080; font-weight: bold\">25</span>%    <span style=\"color: #808000; text-decoration-color: #808000\">...</span>       <span style=\"color: #008080; text-decoration-color: #008080; font-weight: bold\">0.690000</span>  <span style=\"color: #008080; text-decoration-color: #008080; font-weight: bold\">7.914825e+03</span>      <span style=\"color: #008080; text-decoration-color: #008080; font-weight: bold\">0.000000</span>      <span style=\"color: #008080; text-decoration-color: #008080; font-weight: bold\">2.620000</span>   \n",
       "<span style=\"color: #008080; text-decoration-color: #008080; font-weight: bold\">50</span>%    <span style=\"color: #808000; text-decoration-color: #808000\">...</span>       <span style=\"color: #008080; text-decoration-color: #008080; font-weight: bold\">1.290000</span>  <span style=\"color: #008080; text-decoration-color: #008080; font-weight: bold\">1.341000e+04</span>      <span style=\"color: #008080; text-decoration-color: #008080; font-weight: bold\">0.000000</span>      <span style=\"color: #008080; text-decoration-color: #008080; font-weight: bold\">9.380000</span>   \n",
       "<span style=\"color: #008080; text-decoration-color: #008080; font-weight: bold\">75</span>%    <span style=\"color: #808000; text-decoration-color: #808000\">...</span>       <span style=\"color: #008080; text-decoration-color: #008080; font-weight: bold\">2.792500</span>  <span style=\"color: #008080; text-decoration-color: #008080; font-weight: bold\">2.208301e+04</span>      <span style=\"color: #008080; text-decoration-color: #008080; font-weight: bold\">6.030000</span>     <span style=\"color: #008080; text-decoration-color: #008080; font-weight: bold\">20.180000</span>   \n",
       "max    <span style=\"color: #808000; text-decoration-color: #808000\">...</span>  <span style=\"color: #008080; text-decoration-color: #008080; font-weight: bold\">337618.500000</span>  <span style=\"color: #008080; text-decoration-color: #008080; font-weight: bold\">1.236127e+07</span>   <span style=\"color: #008080; text-decoration-color: #008080; font-weight: bold\">3201.230000</span>  <span style=\"color: #008080; text-decoration-color: #008080; font-weight: bold\">71101.790000</span>   \n",
       "\n",
       "                V63  industry_agriculture  industry_construction  \\\n",
       "count  <span style=\"color: #008080; text-decoration-color: #008080; font-weight: bold\">5.061100e+04</span>          <span style=\"color: #008080; text-decoration-color: #008080; font-weight: bold\">51407.000000</span>           <span style=\"color: #008080; text-decoration-color: #008080; font-weight: bold\">51407.000000</span>   \n",
       "mean   <span style=\"color: #008080; text-decoration-color: #008080; font-weight: bold\">1.777396e+01</span>              <span style=\"color: #008080; text-decoration-color: #008080; font-weight: bold\">0.111308</span>               <span style=\"color: #008080; text-decoration-color: #008080; font-weight: bold\">0.129068</span>   \n",
       "std    <span style=\"color: #008080; text-decoration-color: #008080; font-weight: bold\">5.094217e+03</span>              <span style=\"color: #008080; text-decoration-color: #008080; font-weight: bold\">0.314516</span>               <span style=\"color: #008080; text-decoration-color: #008080; font-weight: bold\">0.335278</span>   \n",
       "min   <span style=\"color: #008080; text-decoration-color: #008080; font-weight: bold\">-1.068620e+06</span>              <span style=\"color: #008080; text-decoration-color: #008080; font-weight: bold\">0.000000</span>               <span style=\"color: #008080; text-decoration-color: #008080; font-weight: bold\">0.000000</span>   \n",
       "<span style=\"color: #008080; text-decoration-color: #008080; font-weight: bold\">25</span>%    <span style=\"color: #008080; text-decoration-color: #008080; font-weight: bold\">7.015000e+00</span>              <span style=\"color: #008080; text-decoration-color: #008080; font-weight: bold\">0.000000</span>               <span style=\"color: #008080; text-decoration-color: #008080; font-weight: bold\">0.000000</span>   \n",
       "<span style=\"color: #008080; text-decoration-color: #008080; font-weight: bold\">50</span>%    <span style=\"color: #008080; text-decoration-color: #008080; font-weight: bold\">4.499000e+01</span>              <span style=\"color: #008080; text-decoration-color: #008080; font-weight: bold\">0.000000</span>               <span style=\"color: #008080; text-decoration-color: #008080; font-weight: bold\">0.000000</span>   \n",
       "<span style=\"color: #008080; text-decoration-color: #008080; font-weight: bold\">75</span>%    <span style=\"color: #008080; text-decoration-color: #008080; font-weight: bold\">6.991000e+01</span>              <span style=\"color: #008080; text-decoration-color: #008080; font-weight: bold\">0.000000</span>               <span style=\"color: #008080; text-decoration-color: #008080; font-weight: bold\">0.000000</span>   \n",
       "max    <span style=\"color: #008080; text-decoration-color: #008080; font-weight: bold\">1.741000e+05</span>              <span style=\"color: #008080; text-decoration-color: #008080; font-weight: bold\">1.000000</span>               <span style=\"color: #008080; text-decoration-color: #008080; font-weight: bold\">1.000000</span>   \n",
       "\n",
       "       industry_manufacture  industry_retail  bankruptcy_label  \n",
       "count          <span style=\"color: #008080; text-decoration-color: #008080; font-weight: bold\">51407.000000</span>     <span style=\"color: #008080; text-decoration-color: #008080; font-weight: bold\">51407.000000</span>      <span style=\"color: #008080; text-decoration-color: #008080; font-weight: bold\">51407.000000</span>  \n",
       "mean               <span style=\"color: #008080; text-decoration-color: #008080; font-weight: bold\">0.379053</span>         <span style=\"color: #008080; text-decoration-color: #008080; font-weight: bold\">0.380571</span>          <span style=\"color: #008080; text-decoration-color: #008080; font-weight: bold\">0.004883</span>  \n",
       "std                <span style=\"color: #008080; text-decoration-color: #008080; font-weight: bold\">0.485156</span>         <span style=\"color: #008080; text-decoration-color: #008080; font-weight: bold\">0.485532</span>          <span style=\"color: #008080; text-decoration-color: #008080; font-weight: bold\">0.069706</span>  \n",
       "min                <span style=\"color: #008080; text-decoration-color: #008080; font-weight: bold\">0.000000</span>         <span style=\"color: #008080; text-decoration-color: #008080; font-weight: bold\">0.000000</span>          <span style=\"color: #008080; text-decoration-color: #008080; font-weight: bold\">0.000000</span>  \n",
       "<span style=\"color: #008080; text-decoration-color: #008080; font-weight: bold\">25</span>%                <span style=\"color: #008080; text-decoration-color: #008080; font-weight: bold\">0.000000</span>         <span style=\"color: #008080; text-decoration-color: #008080; font-weight: bold\">0.000000</span>          <span style=\"color: #008080; text-decoration-color: #008080; font-weight: bold\">0.000000</span>  \n",
       "<span style=\"color: #008080; text-decoration-color: #008080; font-weight: bold\">50</span>%                <span style=\"color: #008080; text-decoration-color: #008080; font-weight: bold\">0.000000</span>         <span style=\"color: #008080; text-decoration-color: #008080; font-weight: bold\">0.000000</span>          <span style=\"color: #008080; text-decoration-color: #008080; font-weight: bold\">0.000000</span>  \n",
       "<span style=\"color: #008080; text-decoration-color: #008080; font-weight: bold\">75</span>%                <span style=\"color: #008080; text-decoration-color: #008080; font-weight: bold\">1.000000</span>         <span style=\"color: #008080; text-decoration-color: #008080; font-weight: bold\">1.000000</span>          <span style=\"color: #008080; text-decoration-color: #008080; font-weight: bold\">0.000000</span>  \n",
       "max                <span style=\"color: #008080; text-decoration-color: #008080; font-weight: bold\">1.000000</span>         <span style=\"color: #008080; text-decoration-color: #008080; font-weight: bold\">1.000000</span>          <span style=\"color: #008080; text-decoration-color: #008080; font-weight: bold\">1.000000</span>  \n",
       "\n",
       "<span style=\"font-weight: bold\">[</span><span style=\"color: #008080; text-decoration-color: #008080; font-weight: bold\">8</span> rows x <span style=\"color: #008080; text-decoration-color: #008080; font-weight: bold\">68</span> columns<span style=\"font-weight: bold\">]</span>\n",
       "</pre>\n"
      ],
      "text/plain": [
       "                  V1            V2            V3            V4            V5  \\\n",
       "count   \u001b[1;36m51095.000000\u001b[0m  \u001b[1;36m5.103200e+04\u001b[0m  \u001b[1;36m4.820800e+04\u001b[0m  \u001b[1;36m49158.000000\u001b[0m  \u001b[1;36m49247.000000\u001b[0m   \n",
       "mean       \u001b[1;36m-7.363870\u001b[0m \u001b[1;36m-2.021102e+01\u001b[0m  \u001b[1;36m7.121501e+01\u001b[0m      \u001b[1;36m9.467094\u001b[0m     \u001b[1;36m12.232457\u001b[0m   \n",
       "std       \u001b[1;36m752.489636\u001b[0m  \u001b[1;36m1.246801e+04\u001b[0m  \u001b[1;36m2.649772e+04\u001b[0m    \u001b[1;36m275.715999\u001b[0m    \u001b[1;36m305.820606\u001b[0m   \n",
       "min   \u001b[1;36m-146527.270000\u001b[0m \u001b[1;36m-1.975000e+06\u001b[0m \u001b[1;36m-6.989966e+05\u001b[0m  \u001b[1;36m-8911.000000\u001b[0m  \u001b[1;36m-8911.000000\u001b[0m   \n",
       "\u001b[1;36m25\u001b[0m%        \u001b[1;36m-0.500000\u001b[0m  \u001b[1;36m0.000000e+00\u001b[0m \u001b[1;36m-8.000000e-02\u001b[0m      \u001b[1;36m0.070000\u001b[0m      \u001b[1;36m0.540000\u001b[0m   \n",
       "\u001b[1;36m50\u001b[0m%         \u001b[1;36m2.040000\u001b[0m  \u001b[1;36m9.390000e+00\u001b[0m  \u001b[1;36m1.670000e+00\u001b[0m      \u001b[1;36m0.300000\u001b[0m      \u001b[1;36m1.040000\u001b[0m   \n",
       "\u001b[1;36m75\u001b[0m%         \u001b[1;36m9.810000\u001b[0m  \u001b[1;36m3.707000e+01\u001b[0m  \u001b[1;36m6.840000e+00\u001b[0m      \u001b[1;36m1.120000\u001b[0m      \u001b[1;36m2.280000\u001b[0m   \n",
       "max     \u001b[1;36m18725.000000\u001b[0m  \u001b[1;36m1.735600e+06\u001b[0m  \u001b[1;36m5.707100e+06\u001b[0m  \u001b[1;36m26201.000000\u001b[0m  \u001b[1;36m27699.000000\u001b[0m   \n",
       "\n",
       "                 V6            V7            V8            V9           V10  \\\n",
       "count  \u001b[1;36m49202.000000\u001b[0m  \u001b[1;36m4.843100e+04\u001b[0m  \u001b[1;36m4.566800e+04\u001b[0m  \u001b[1;36m4.798800e+04\u001b[0m  \u001b[1;36m3.837800e+04\u001b[0m   \n",
       "mean      \u001b[1;36m13.262163\u001b[0m  \u001b[1;36m5.450944e+03\u001b[0m  \u001b[1;36m2.010796e+03\u001b[0m  \u001b[1;36m2.409203e+03\u001b[0m  \u001b[1;36m2.334857e+02\u001b[0m   \n",
       "std      \u001b[1;36m318.808668\u001b[0m  \u001b[1;36m3.167082e+05\u001b[0m  \u001b[1;36m1.720157e+05\u001b[0m  \u001b[1;36m1.670290e+05\u001b[0m  \u001b[1;36m1.076977e+04\u001b[0m   \n",
       "min    \u001b[1;36m-8911.000000\u001b[0m \u001b[1;36m-7.602669e+04\u001b[0m \u001b[1;36m-1.463262e+04\u001b[0m \u001b[1;36m-1.281545e+05\u001b[0m \u001b[1;36m-2.946954e+04\u001b[0m   \n",
       "\u001b[1;36m25\u001b[0m%        \u001b[1;36m0.910000\u001b[0m  \u001b[1;36m1.371900e+02\u001b[0m  \u001b[1;36m2.495750e+01\u001b[0m  \u001b[1;36m4.231000e+01\u001b[0m  \u001b[1;36m7.530000e+00\u001b[0m   \n",
       "\u001b[1;36m50\u001b[0m%        \u001b[1;36m1.390000\u001b[0m  \u001b[1;36m2.350700e+02\u001b[0m  \u001b[1;36m5.443500e+01\u001b[0m  \u001b[1;36m8.562000e+01\u001b[0m  \u001b[1;36m3.120000e+01\u001b[0m   \n",
       "\u001b[1;36m75\u001b[0m%        \u001b[1;36m2.990000\u001b[0m  \u001b[1;36m4.509700e+02\u001b[0m  \u001b[1;36m1.051725e+02\u001b[0m  \u001b[1;36m1.759450e+02\u001b[0m  \u001b[1;36m8.473750e+01\u001b[0m   \n",
       "max    \u001b[1;36m33200.000000\u001b[0m  \u001b[1;36m4.302540e+07\u001b[0m  \u001b[1;36m2.603653e+07\u001b[0m  \u001b[1;36m2.255448e+07\u001b[0m  \u001b[1;36m1.771038e+06\u001b[0m   \n",
       "\n",
       "       \u001b[33m...\u001b[0m            V59           V60           V61           V62  \\\n",
       "count  \u001b[33m...\u001b[0m   \u001b[1;36m40724.000000\u001b[0m  \u001b[1;36m1.804600e+04\u001b[0m  \u001b[1;36m51012.000000\u001b[0m  \u001b[1;36m50081.000000\u001b[0m   \n",
       "mean   \u001b[33m...\u001b[0m      \u001b[1;36m23.851035\u001b[0m  \u001b[1;36m1.903060e+04\u001b[0m      \u001b[1;36m5.978964\u001b[0m     \u001b[1;36m22.025242\u001b[0m   \n",
       "std    \u001b[33m...\u001b[0m    \u001b[1;36m2065.093238\u001b[0m  \u001b[1;36m9.703082e+04\u001b[0m     \u001b[1;36m20.856127\u001b[0m    \u001b[1;36m507.081174\u001b[0m   \n",
       "min    \u001b[33m...\u001b[0m  \u001b[1;36m-28112.000000\u001b[0m \u001b[1;36m-5.224400e+05\u001b[0m  \u001b[1;36m-1912.190000\u001b[0m   \u001b[1;36m-101.200000\u001b[0m   \n",
       "\u001b[1;36m25\u001b[0m%    \u001b[33m...\u001b[0m       \u001b[1;36m0.690000\u001b[0m  \u001b[1;36m7.914825e+03\u001b[0m      \u001b[1;36m0.000000\u001b[0m      \u001b[1;36m2.620000\u001b[0m   \n",
       "\u001b[1;36m50\u001b[0m%    \u001b[33m...\u001b[0m       \u001b[1;36m1.290000\u001b[0m  \u001b[1;36m1.341000e+04\u001b[0m      \u001b[1;36m0.000000\u001b[0m      \u001b[1;36m9.380000\u001b[0m   \n",
       "\u001b[1;36m75\u001b[0m%    \u001b[33m...\u001b[0m       \u001b[1;36m2.792500\u001b[0m  \u001b[1;36m2.208301e+04\u001b[0m      \u001b[1;36m6.030000\u001b[0m     \u001b[1;36m20.180000\u001b[0m   \n",
       "max    \u001b[33m...\u001b[0m  \u001b[1;36m337618.500000\u001b[0m  \u001b[1;36m1.236127e+07\u001b[0m   \u001b[1;36m3201.230000\u001b[0m  \u001b[1;36m71101.790000\u001b[0m   \n",
       "\n",
       "                V63  industry_agriculture  industry_construction  \\\n",
       "count  \u001b[1;36m5.061100e+04\u001b[0m          \u001b[1;36m51407.000000\u001b[0m           \u001b[1;36m51407.000000\u001b[0m   \n",
       "mean   \u001b[1;36m1.777396e+01\u001b[0m              \u001b[1;36m0.111308\u001b[0m               \u001b[1;36m0.129068\u001b[0m   \n",
       "std    \u001b[1;36m5.094217e+03\u001b[0m              \u001b[1;36m0.314516\u001b[0m               \u001b[1;36m0.335278\u001b[0m   \n",
       "min   \u001b[1;36m-1.068620e+06\u001b[0m              \u001b[1;36m0.000000\u001b[0m               \u001b[1;36m0.000000\u001b[0m   \n",
       "\u001b[1;36m25\u001b[0m%    \u001b[1;36m7.015000e+00\u001b[0m              \u001b[1;36m0.000000\u001b[0m               \u001b[1;36m0.000000\u001b[0m   \n",
       "\u001b[1;36m50\u001b[0m%    \u001b[1;36m4.499000e+01\u001b[0m              \u001b[1;36m0.000000\u001b[0m               \u001b[1;36m0.000000\u001b[0m   \n",
       "\u001b[1;36m75\u001b[0m%    \u001b[1;36m6.991000e+01\u001b[0m              \u001b[1;36m0.000000\u001b[0m               \u001b[1;36m0.000000\u001b[0m   \n",
       "max    \u001b[1;36m1.741000e+05\u001b[0m              \u001b[1;36m1.000000\u001b[0m               \u001b[1;36m1.000000\u001b[0m   \n",
       "\n",
       "       industry_manufacture  industry_retail  bankruptcy_label  \n",
       "count          \u001b[1;36m51407.000000\u001b[0m     \u001b[1;36m51407.000000\u001b[0m      \u001b[1;36m51407.000000\u001b[0m  \n",
       "mean               \u001b[1;36m0.379053\u001b[0m         \u001b[1;36m0.380571\u001b[0m          \u001b[1;36m0.004883\u001b[0m  \n",
       "std                \u001b[1;36m0.485156\u001b[0m         \u001b[1;36m0.485532\u001b[0m          \u001b[1;36m0.069706\u001b[0m  \n",
       "min                \u001b[1;36m0.000000\u001b[0m         \u001b[1;36m0.000000\u001b[0m          \u001b[1;36m0.000000\u001b[0m  \n",
       "\u001b[1;36m25\u001b[0m%                \u001b[1;36m0.000000\u001b[0m         \u001b[1;36m0.000000\u001b[0m          \u001b[1;36m0.000000\u001b[0m  \n",
       "\u001b[1;36m50\u001b[0m%                \u001b[1;36m0.000000\u001b[0m         \u001b[1;36m0.000000\u001b[0m          \u001b[1;36m0.000000\u001b[0m  \n",
       "\u001b[1;36m75\u001b[0m%                \u001b[1;36m1.000000\u001b[0m         \u001b[1;36m1.000000\u001b[0m          \u001b[1;36m0.000000\u001b[0m  \n",
       "max                \u001b[1;36m1.000000\u001b[0m         \u001b[1;36m1.000000\u001b[0m          \u001b[1;36m1.000000\u001b[0m  \n",
       "\n",
       "\u001b[1m[\u001b[0m\u001b[1;36m8\u001b[0m rows x \u001b[1;36m68\u001b[0m columns\u001b[1m]\u001b[0m\n"
      ]
     },
     "metadata": {},
     "output_type": "display_data"
    }
   ],
   "source": [
    "print(combined_df.describe())"
   ]
  },
  {
   "cell_type": "code",
   "execution_count": 4,
   "metadata": {},
   "outputs": [
    {
     "data": {
      "text/html": [
       "<pre style=\"white-space:pre;overflow-x:auto;line-height:normal;font-family:Menlo,'DejaVu Sans Mono',consolas,'Courier New',monospace\">Cross-validation AUC scores: <span style=\"font-weight: bold\">[</span><span style=\"color: #008080; text-decoration-color: #008080; font-weight: bold\">0.94479841</span> <span style=\"color: #008080; text-decoration-color: #008080; font-weight: bold\">0.97442883</span> <span style=\"color: #008080; text-decoration-color: #008080; font-weight: bold\">0.96500305</span> <span style=\"color: #008080; text-decoration-color: #008080; font-weight: bold\">0.91250153</span> <span style=\"color: #008080; text-decoration-color: #008080; font-weight: bold\">0.92382221</span><span style=\"font-weight: bold\">]</span>\n",
       "</pre>\n"
      ],
      "text/plain": [
       "Cross-validation AUC scores: \u001b[1m[\u001b[0m\u001b[1;36m0.94479841\u001b[0m \u001b[1;36m0.97442883\u001b[0m \u001b[1;36m0.96500305\u001b[0m \u001b[1;36m0.91250153\u001b[0m \u001b[1;36m0.92382221\u001b[0m\u001b[1m]\u001b[0m\n"
      ]
     },
     "metadata": {},
     "output_type": "display_data"
    },
    {
     "data": {
      "text/html": [
       "<pre style=\"white-space:pre;overflow-x:auto;line-height:normal;font-family:Menlo,'DejaVu Sans Mono',consolas,'Courier New',monospace\">Mean CV AUC score: <span style=\"color: #008080; text-decoration-color: #008080; font-weight: bold\">0.9441108075215846</span>\n",
       "</pre>\n"
      ],
      "text/plain": [
       "Mean CV AUC score: \u001b[1;36m0.9441108075215846\u001b[0m\n"
      ]
     },
     "metadata": {},
     "output_type": "display_data"
    },
    {
     "data": {
      "text/html": [
       "<pre style=\"white-space:pre;overflow-x:auto;line-height:normal;font-family:Menlo,'DejaVu Sans Mono',consolas,'Courier New',monospace\">Test AUC score: <span style=\"color: #008080; text-decoration-color: #008080; font-weight: bold\">0.9340852228303361</span>\n",
       "</pre>\n"
      ],
      "text/plain": [
       "Test AUC score: \u001b[1;36m0.9340852228303361\u001b[0m\n"
      ]
     },
     "metadata": {},
     "output_type": "display_data"
    },
    {
     "data": {
      "text/html": [
       "<pre style=\"white-space:pre;overflow-x:auto;line-height:normal;font-family:Menlo,'DejaVu Sans Mono',consolas,'Courier New',monospace\">Optimal threshold based on F1 score: <span style=\"color: #008080; text-decoration-color: #008080; font-weight: bold\">0.5769484</span>\n",
       "</pre>\n"
      ],
      "text/plain": [
       "Optimal threshold based on F1 score: \u001b[1;36m0.5769484\u001b[0m\n"
      ]
     },
     "metadata": {},
     "output_type": "display_data"
    },
    {
     "data": {
      "text/html": [
       "<pre style=\"white-space:pre;overflow-x:auto;line-height:normal;font-family:Menlo,'DejaVu Sans Mono',consolas,'Courier New',monospace\">Confusion Matrix <span style=\"font-weight: bold\">(</span>default threshold<span style=\"font-weight: bold\">)</span>:\n",
       " <span style=\"font-weight: bold\">[[</span><span style=\"color: #008080; text-decoration-color: #008080; font-weight: bold\">10221</span>    <span style=\"color: #008080; text-decoration-color: #008080; font-weight: bold\">11</span><span style=\"font-weight: bold\">]</span>\n",
       " <span style=\"font-weight: bold\">[</span>   <span style=\"color: #008080; text-decoration-color: #008080; font-weight: bold\">31</span>    <span style=\"color: #008080; text-decoration-color: #008080; font-weight: bold\">19</span><span style=\"font-weight: bold\">]]</span>\n",
       "</pre>\n"
      ],
      "text/plain": [
       "Confusion Matrix \u001b[1m(\u001b[0mdefault threshold\u001b[1m)\u001b[0m:\n",
       " \u001b[1m[\u001b[0m\u001b[1m[\u001b[0m\u001b[1;36m10221\u001b[0m    \u001b[1;36m11\u001b[0m\u001b[1m]\u001b[0m\n",
       " \u001b[1m[\u001b[0m   \u001b[1;36m31\u001b[0m    \u001b[1;36m19\u001b[0m\u001b[1m]\u001b[0m\u001b[1m]\u001b[0m\n"
      ]
     },
     "metadata": {},
     "output_type": "display_data"
    },
    {
     "data": {
      "text/html": [
       "<pre style=\"white-space:pre;overflow-x:auto;line-height:normal;font-family:Menlo,'DejaVu Sans Mono',consolas,'Courier New',monospace\">Classification Report <span style=\"font-weight: bold\">(</span>default threshold<span style=\"font-weight: bold\">)</span>:\n",
       "               precision    recall  f1-score   support\n",
       "\n",
       "           <span style=\"color: #008080; text-decoration-color: #008080; font-weight: bold\">0</span>       <span style=\"color: #008080; text-decoration-color: #008080; font-weight: bold\">1.00</span>      <span style=\"color: #008080; text-decoration-color: #008080; font-weight: bold\">1.00</span>      <span style=\"color: #008080; text-decoration-color: #008080; font-weight: bold\">1.00</span>     <span style=\"color: #008080; text-decoration-color: #008080; font-weight: bold\">10232</span>\n",
       "           <span style=\"color: #008080; text-decoration-color: #008080; font-weight: bold\">1</span>       <span style=\"color: #008080; text-decoration-color: #008080; font-weight: bold\">0.63</span>      <span style=\"color: #008080; text-decoration-color: #008080; font-weight: bold\">0.38</span>      <span style=\"color: #008080; text-decoration-color: #008080; font-weight: bold\">0.48</span>        <span style=\"color: #008080; text-decoration-color: #008080; font-weight: bold\">50</span>\n",
       "\n",
       "    accuracy                           <span style=\"color: #008080; text-decoration-color: #008080; font-weight: bold\">1.00</span>     <span style=\"color: #008080; text-decoration-color: #008080; font-weight: bold\">10282</span>\n",
       "   macro avg       <span style=\"color: #008080; text-decoration-color: #008080; font-weight: bold\">0.82</span>      <span style=\"color: #008080; text-decoration-color: #008080; font-weight: bold\">0.69</span>      <span style=\"color: #008080; text-decoration-color: #008080; font-weight: bold\">0.74</span>     <span style=\"color: #008080; text-decoration-color: #008080; font-weight: bold\">10282</span>\n",
       "weighted avg       <span style=\"color: #008080; text-decoration-color: #008080; font-weight: bold\">1.00</span>      <span style=\"color: #008080; text-decoration-color: #008080; font-weight: bold\">1.00</span>      <span style=\"color: #008080; text-decoration-color: #008080; font-weight: bold\">1.00</span>     <span style=\"color: #008080; text-decoration-color: #008080; font-weight: bold\">10282</span>\n",
       "\n",
       "</pre>\n"
      ],
      "text/plain": [
       "Classification Report \u001b[1m(\u001b[0mdefault threshold\u001b[1m)\u001b[0m:\n",
       "               precision    recall  f1-score   support\n",
       "\n",
       "           \u001b[1;36m0\u001b[0m       \u001b[1;36m1.00\u001b[0m      \u001b[1;36m1.00\u001b[0m      \u001b[1;36m1.00\u001b[0m     \u001b[1;36m10232\u001b[0m\n",
       "           \u001b[1;36m1\u001b[0m       \u001b[1;36m0.63\u001b[0m      \u001b[1;36m0.38\u001b[0m      \u001b[1;36m0.48\u001b[0m        \u001b[1;36m50\u001b[0m\n",
       "\n",
       "    accuracy                           \u001b[1;36m1.00\u001b[0m     \u001b[1;36m10282\u001b[0m\n",
       "   macro avg       \u001b[1;36m0.82\u001b[0m      \u001b[1;36m0.69\u001b[0m      \u001b[1;36m0.74\u001b[0m     \u001b[1;36m10282\u001b[0m\n",
       "weighted avg       \u001b[1;36m1.00\u001b[0m      \u001b[1;36m1.00\u001b[0m      \u001b[1;36m1.00\u001b[0m     \u001b[1;36m10282\u001b[0m\n",
       "\n"
      ]
     },
     "metadata": {},
     "output_type": "display_data"
    },
    {
     "data": {
      "text/html": [
       "<pre style=\"white-space:pre;overflow-x:auto;line-height:normal;font-family:Menlo,'DejaVu Sans Mono',consolas,'Courier New',monospace\">Confusion Matrix <span style=\"font-weight: bold\">(</span>optimal threshold<span style=\"font-weight: bold\">)</span>:\n",
       " <span style=\"font-weight: bold\">[[</span><span style=\"color: #008080; text-decoration-color: #008080; font-weight: bold\">10222</span>    <span style=\"color: #008080; text-decoration-color: #008080; font-weight: bold\">10</span><span style=\"font-weight: bold\">]</span>\n",
       " <span style=\"font-weight: bold\">[</span>   <span style=\"color: #008080; text-decoration-color: #008080; font-weight: bold\">31</span>    <span style=\"color: #008080; text-decoration-color: #008080; font-weight: bold\">19</span><span style=\"font-weight: bold\">]]</span>\n",
       "</pre>\n"
      ],
      "text/plain": [
       "Confusion Matrix \u001b[1m(\u001b[0moptimal threshold\u001b[1m)\u001b[0m:\n",
       " \u001b[1m[\u001b[0m\u001b[1m[\u001b[0m\u001b[1;36m10222\u001b[0m    \u001b[1;36m10\u001b[0m\u001b[1m]\u001b[0m\n",
       " \u001b[1m[\u001b[0m   \u001b[1;36m31\u001b[0m    \u001b[1;36m19\u001b[0m\u001b[1m]\u001b[0m\u001b[1m]\u001b[0m\n"
      ]
     },
     "metadata": {},
     "output_type": "display_data"
    },
    {
     "data": {
      "text/html": [
       "<pre style=\"white-space:pre;overflow-x:auto;line-height:normal;font-family:Menlo,'DejaVu Sans Mono',consolas,'Courier New',monospace\">Classification Report <span style=\"font-weight: bold\">(</span>optimal threshold<span style=\"font-weight: bold\">)</span>:\n",
       "               precision    recall  f1-score   support\n",
       "\n",
       "           <span style=\"color: #008080; text-decoration-color: #008080; font-weight: bold\">0</span>       <span style=\"color: #008080; text-decoration-color: #008080; font-weight: bold\">1.00</span>      <span style=\"color: #008080; text-decoration-color: #008080; font-weight: bold\">1.00</span>      <span style=\"color: #008080; text-decoration-color: #008080; font-weight: bold\">1.00</span>     <span style=\"color: #008080; text-decoration-color: #008080; font-weight: bold\">10232</span>\n",
       "           <span style=\"color: #008080; text-decoration-color: #008080; font-weight: bold\">1</span>       <span style=\"color: #008080; text-decoration-color: #008080; font-weight: bold\">0.66</span>      <span style=\"color: #008080; text-decoration-color: #008080; font-weight: bold\">0.38</span>      <span style=\"color: #008080; text-decoration-color: #008080; font-weight: bold\">0.48</span>        <span style=\"color: #008080; text-decoration-color: #008080; font-weight: bold\">50</span>\n",
       "\n",
       "    accuracy                           <span style=\"color: #008080; text-decoration-color: #008080; font-weight: bold\">1.00</span>     <span style=\"color: #008080; text-decoration-color: #008080; font-weight: bold\">10282</span>\n",
       "   macro avg       <span style=\"color: #008080; text-decoration-color: #008080; font-weight: bold\">0.83</span>      <span style=\"color: #008080; text-decoration-color: #008080; font-weight: bold\">0.69</span>      <span style=\"color: #008080; text-decoration-color: #008080; font-weight: bold\">0.74</span>     <span style=\"color: #008080; text-decoration-color: #008080; font-weight: bold\">10282</span>\n",
       "weighted avg       <span style=\"color: #008080; text-decoration-color: #008080; font-weight: bold\">1.00</span>      <span style=\"color: #008080; text-decoration-color: #008080; font-weight: bold\">1.00</span>      <span style=\"color: #008080; text-decoration-color: #008080; font-weight: bold\">1.00</span>     <span style=\"color: #008080; text-decoration-color: #008080; font-weight: bold\">10282</span>\n",
       "\n",
       "</pre>\n"
      ],
      "text/plain": [
       "Classification Report \u001b[1m(\u001b[0moptimal threshold\u001b[1m)\u001b[0m:\n",
       "               precision    recall  f1-score   support\n",
       "\n",
       "           \u001b[1;36m0\u001b[0m       \u001b[1;36m1.00\u001b[0m      \u001b[1;36m1.00\u001b[0m      \u001b[1;36m1.00\u001b[0m     \u001b[1;36m10232\u001b[0m\n",
       "           \u001b[1;36m1\u001b[0m       \u001b[1;36m0.66\u001b[0m      \u001b[1;36m0.38\u001b[0m      \u001b[1;36m0.48\u001b[0m        \u001b[1;36m50\u001b[0m\n",
       "\n",
       "    accuracy                           \u001b[1;36m1.00\u001b[0m     \u001b[1;36m10282\u001b[0m\n",
       "   macro avg       \u001b[1;36m0.83\u001b[0m      \u001b[1;36m0.69\u001b[0m      \u001b[1;36m0.74\u001b[0m     \u001b[1;36m10282\u001b[0m\n",
       "weighted avg       \u001b[1;36m1.00\u001b[0m      \u001b[1;36m1.00\u001b[0m      \u001b[1;36m1.00\u001b[0m     \u001b[1;36m10282\u001b[0m\n",
       "\n"
      ]
     },
     "metadata": {},
     "output_type": "display_data"
    },
    {
     "data": {
      "text/html": [
       "<pre style=\"white-space:pre;overflow-x:auto;line-height:normal;font-family:Menlo,'DejaVu Sans Mono',consolas,'Courier New',monospace\">\n",
       "--- Industry: agriculture ---\n",
       "</pre>\n"
      ],
      "text/plain": [
       "\n",
       "--- Industry: agriculture ---\n"
      ]
     },
     "metadata": {},
     "output_type": "display_data"
    },
    {
     "data": {
      "text/html": [
       "<pre style=\"white-space:pre;overflow-x:auto;line-height:normal;font-family:Menlo,'DejaVu Sans Mono',consolas,'Courier New',monospace\">Support: <span style=\"color: #008080; text-decoration-color: #008080; font-weight: bold\">1177</span>\n",
       "</pre>\n"
      ],
      "text/plain": [
       "Support: \u001b[1;36m1177\u001b[0m\n"
      ]
     },
     "metadata": {},
     "output_type": "display_data"
    },
    {
     "data": {
      "text/html": [
       "<pre style=\"white-space:pre;overflow-x:auto;line-height:normal;font-family:Menlo,'DejaVu Sans Mono',consolas,'Courier New',monospace\">ROC AUC: <span style=\"color: #008080; text-decoration-color: #008080; font-weight: bold\">0.9474885844748858</span>\n",
       "</pre>\n"
      ],
      "text/plain": [
       "ROC AUC: \u001b[1;36m0.9474885844748858\u001b[0m\n"
      ]
     },
     "metadata": {},
     "output_type": "display_data"
    },
    {
     "data": {
      "text/html": [
       "<pre style=\"white-space:pre;overflow-x:auto;line-height:normal;font-family:Menlo,'DejaVu Sans Mono',consolas,'Courier New',monospace\">Confusion Matrix:\n",
       "</pre>\n"
      ],
      "text/plain": [
       "Confusion Matrix:\n"
      ]
     },
     "metadata": {},
     "output_type": "display_data"
    },
    {
     "data": {
      "text/html": [
       "<pre style=\"white-space:pre;overflow-x:auto;line-height:normal;font-family:Menlo,'DejaVu Sans Mono',consolas,'Courier New',monospace\"><span style=\"font-weight: bold\">[[</span><span style=\"color: #008080; text-decoration-color: #008080; font-weight: bold\">1167</span>    <span style=\"color: #008080; text-decoration-color: #008080; font-weight: bold\">1</span><span style=\"font-weight: bold\">]</span>\n",
       " <span style=\"font-weight: bold\">[</span>   <span style=\"color: #008080; text-decoration-color: #008080; font-weight: bold\">5</span>    <span style=\"color: #008080; text-decoration-color: #008080; font-weight: bold\">4</span><span style=\"font-weight: bold\">]]</span>\n",
       "</pre>\n"
      ],
      "text/plain": [
       "\u001b[1m[\u001b[0m\u001b[1m[\u001b[0m\u001b[1;36m1167\u001b[0m    \u001b[1;36m1\u001b[0m\u001b[1m]\u001b[0m\n",
       " \u001b[1m[\u001b[0m   \u001b[1;36m5\u001b[0m    \u001b[1;36m4\u001b[0m\u001b[1m]\u001b[0m\u001b[1m]\u001b[0m\n"
      ]
     },
     "metadata": {},
     "output_type": "display_data"
    },
    {
     "data": {
      "text/html": [
       "<pre style=\"white-space:pre;overflow-x:auto;line-height:normal;font-family:Menlo,'DejaVu Sans Mono',consolas,'Courier New',monospace\">Classification Report:\n",
       "</pre>\n"
      ],
      "text/plain": [
       "Classification Report:\n"
      ]
     },
     "metadata": {},
     "output_type": "display_data"
    },
    {
     "data": {
      "text/html": [
       "<pre style=\"white-space:pre;overflow-x:auto;line-height:normal;font-family:Menlo,'DejaVu Sans Mono',consolas,'Courier New',monospace\">              precision    recall  f1-score   support\n",
       "\n",
       "           <span style=\"color: #008080; text-decoration-color: #008080; font-weight: bold\">0</span>       <span style=\"color: #008080; text-decoration-color: #008080; font-weight: bold\">1.00</span>      <span style=\"color: #008080; text-decoration-color: #008080; font-weight: bold\">1.00</span>      <span style=\"color: #008080; text-decoration-color: #008080; font-weight: bold\">1.00</span>      <span style=\"color: #008080; text-decoration-color: #008080; font-weight: bold\">1168</span>\n",
       "           <span style=\"color: #008080; text-decoration-color: #008080; font-weight: bold\">1</span>       <span style=\"color: #008080; text-decoration-color: #008080; font-weight: bold\">0.80</span>      <span style=\"color: #008080; text-decoration-color: #008080; font-weight: bold\">0.44</span>      <span style=\"color: #008080; text-decoration-color: #008080; font-weight: bold\">0.57</span>         <span style=\"color: #008080; text-decoration-color: #008080; font-weight: bold\">9</span>\n",
       "\n",
       "    accuracy                           <span style=\"color: #008080; text-decoration-color: #008080; font-weight: bold\">0.99</span>      <span style=\"color: #008080; text-decoration-color: #008080; font-weight: bold\">1177</span>\n",
       "   macro avg       <span style=\"color: #008080; text-decoration-color: #008080; font-weight: bold\">0.90</span>      <span style=\"color: #008080; text-decoration-color: #008080; font-weight: bold\">0.72</span>      <span style=\"color: #008080; text-decoration-color: #008080; font-weight: bold\">0.78</span>      <span style=\"color: #008080; text-decoration-color: #008080; font-weight: bold\">1177</span>\n",
       "weighted avg       <span style=\"color: #008080; text-decoration-color: #008080; font-weight: bold\">0.99</span>      <span style=\"color: #008080; text-decoration-color: #008080; font-weight: bold\">0.99</span>      <span style=\"color: #008080; text-decoration-color: #008080; font-weight: bold\">0.99</span>      <span style=\"color: #008080; text-decoration-color: #008080; font-weight: bold\">1177</span>\n",
       "\n",
       "</pre>\n"
      ],
      "text/plain": [
       "              precision    recall  f1-score   support\n",
       "\n",
       "           \u001b[1;36m0\u001b[0m       \u001b[1;36m1.00\u001b[0m      \u001b[1;36m1.00\u001b[0m      \u001b[1;36m1.00\u001b[0m      \u001b[1;36m1168\u001b[0m\n",
       "           \u001b[1;36m1\u001b[0m       \u001b[1;36m0.80\u001b[0m      \u001b[1;36m0.44\u001b[0m      \u001b[1;36m0.57\u001b[0m         \u001b[1;36m9\u001b[0m\n",
       "\n",
       "    accuracy                           \u001b[1;36m0.99\u001b[0m      \u001b[1;36m1177\u001b[0m\n",
       "   macro avg       \u001b[1;36m0.90\u001b[0m      \u001b[1;36m0.72\u001b[0m      \u001b[1;36m0.78\u001b[0m      \u001b[1;36m1177\u001b[0m\n",
       "weighted avg       \u001b[1;36m0.99\u001b[0m      \u001b[1;36m0.99\u001b[0m      \u001b[1;36m0.99\u001b[0m      \u001b[1;36m1177\u001b[0m\n",
       "\n"
      ]
     },
     "metadata": {},
     "output_type": "display_data"
    },
    {
     "data": {
      "text/html": [
       "<pre style=\"white-space:pre;overflow-x:auto;line-height:normal;font-family:Menlo,'DejaVu Sans Mono',consolas,'Courier New',monospace\">\n",
       "--- Industry: construction ---\n",
       "</pre>\n"
      ],
      "text/plain": [
       "\n",
       "--- Industry: construction ---\n"
      ]
     },
     "metadata": {},
     "output_type": "display_data"
    },
    {
     "data": {
      "text/html": [
       "<pre style=\"white-space:pre;overflow-x:auto;line-height:normal;font-family:Menlo,'DejaVu Sans Mono',consolas,'Courier New',monospace\">Support: <span style=\"color: #008080; text-decoration-color: #008080; font-weight: bold\">1348</span>\n",
       "</pre>\n"
      ],
      "text/plain": [
       "Support: \u001b[1;36m1348\u001b[0m\n"
      ]
     },
     "metadata": {},
     "output_type": "display_data"
    },
    {
     "data": {
      "text/html": [
       "<pre style=\"white-space:pre;overflow-x:auto;line-height:normal;font-family:Menlo,'DejaVu Sans Mono',consolas,'Courier New',monospace\">ROC AUC: <span style=\"color: #008080; text-decoration-color: #008080; font-weight: bold\">0.9831457864466117</span>\n",
       "</pre>\n"
      ],
      "text/plain": [
       "ROC AUC: \u001b[1;36m0.9831457864466117\u001b[0m\n"
      ]
     },
     "metadata": {},
     "output_type": "display_data"
    },
    {
     "data": {
      "text/html": [
       "<pre style=\"white-space:pre;overflow-x:auto;line-height:normal;font-family:Menlo,'DejaVu Sans Mono',consolas,'Courier New',monospace\">Confusion Matrix:\n",
       "</pre>\n"
      ],
      "text/plain": [
       "Confusion Matrix:\n"
      ]
     },
     "metadata": {},
     "output_type": "display_data"
    },
    {
     "data": {
      "text/html": [
       "<pre style=\"white-space:pre;overflow-x:auto;line-height:normal;font-family:Menlo,'DejaVu Sans Mono',consolas,'Courier New',monospace\"><span style=\"font-weight: bold\">[[</span><span style=\"color: #008080; text-decoration-color: #008080; font-weight: bold\">1327</span>    <span style=\"color: #008080; text-decoration-color: #008080; font-weight: bold\">6</span><span style=\"font-weight: bold\">]</span>\n",
       " <span style=\"font-weight: bold\">[</span>   <span style=\"color: #008080; text-decoration-color: #008080; font-weight: bold\">7</span>    <span style=\"color: #008080; text-decoration-color: #008080; font-weight: bold\">8</span><span style=\"font-weight: bold\">]]</span>\n",
       "</pre>\n"
      ],
      "text/plain": [
       "\u001b[1m[\u001b[0m\u001b[1m[\u001b[0m\u001b[1;36m1327\u001b[0m    \u001b[1;36m6\u001b[0m\u001b[1m]\u001b[0m\n",
       " \u001b[1m[\u001b[0m   \u001b[1;36m7\u001b[0m    \u001b[1;36m8\u001b[0m\u001b[1m]\u001b[0m\u001b[1m]\u001b[0m\n"
      ]
     },
     "metadata": {},
     "output_type": "display_data"
    },
    {
     "data": {
      "text/html": [
       "<pre style=\"white-space:pre;overflow-x:auto;line-height:normal;font-family:Menlo,'DejaVu Sans Mono',consolas,'Courier New',monospace\">Classification Report:\n",
       "</pre>\n"
      ],
      "text/plain": [
       "Classification Report:\n"
      ]
     },
     "metadata": {},
     "output_type": "display_data"
    },
    {
     "data": {
      "text/html": [
       "<pre style=\"white-space:pre;overflow-x:auto;line-height:normal;font-family:Menlo,'DejaVu Sans Mono',consolas,'Courier New',monospace\">              precision    recall  f1-score   support\n",
       "\n",
       "           <span style=\"color: #008080; text-decoration-color: #008080; font-weight: bold\">0</span>       <span style=\"color: #008080; text-decoration-color: #008080; font-weight: bold\">0.99</span>      <span style=\"color: #008080; text-decoration-color: #008080; font-weight: bold\">1.00</span>      <span style=\"color: #008080; text-decoration-color: #008080; font-weight: bold\">1.00</span>      <span style=\"color: #008080; text-decoration-color: #008080; font-weight: bold\">1333</span>\n",
       "           <span style=\"color: #008080; text-decoration-color: #008080; font-weight: bold\">1</span>       <span style=\"color: #008080; text-decoration-color: #008080; font-weight: bold\">0.57</span>      <span style=\"color: #008080; text-decoration-color: #008080; font-weight: bold\">0.53</span>      <span style=\"color: #008080; text-decoration-color: #008080; font-weight: bold\">0.55</span>        <span style=\"color: #008080; text-decoration-color: #008080; font-weight: bold\">15</span>\n",
       "\n",
       "    accuracy                           <span style=\"color: #008080; text-decoration-color: #008080; font-weight: bold\">0.99</span>      <span style=\"color: #008080; text-decoration-color: #008080; font-weight: bold\">1348</span>\n",
       "   macro avg       <span style=\"color: #008080; text-decoration-color: #008080; font-weight: bold\">0.78</span>      <span style=\"color: #008080; text-decoration-color: #008080; font-weight: bold\">0.76</span>      <span style=\"color: #008080; text-decoration-color: #008080; font-weight: bold\">0.77</span>      <span style=\"color: #008080; text-decoration-color: #008080; font-weight: bold\">1348</span>\n",
       "weighted avg       <span style=\"color: #008080; text-decoration-color: #008080; font-weight: bold\">0.99</span>      <span style=\"color: #008080; text-decoration-color: #008080; font-weight: bold\">0.99</span>      <span style=\"color: #008080; text-decoration-color: #008080; font-weight: bold\">0.99</span>      <span style=\"color: #008080; text-decoration-color: #008080; font-weight: bold\">1348</span>\n",
       "\n",
       "</pre>\n"
      ],
      "text/plain": [
       "              precision    recall  f1-score   support\n",
       "\n",
       "           \u001b[1;36m0\u001b[0m       \u001b[1;36m0.99\u001b[0m      \u001b[1;36m1.00\u001b[0m      \u001b[1;36m1.00\u001b[0m      \u001b[1;36m1333\u001b[0m\n",
       "           \u001b[1;36m1\u001b[0m       \u001b[1;36m0.57\u001b[0m      \u001b[1;36m0.53\u001b[0m      \u001b[1;36m0.55\u001b[0m        \u001b[1;36m15\u001b[0m\n",
       "\n",
       "    accuracy                           \u001b[1;36m0.99\u001b[0m      \u001b[1;36m1348\u001b[0m\n",
       "   macro avg       \u001b[1;36m0.78\u001b[0m      \u001b[1;36m0.76\u001b[0m      \u001b[1;36m0.77\u001b[0m      \u001b[1;36m1348\u001b[0m\n",
       "weighted avg       \u001b[1;36m0.99\u001b[0m      \u001b[1;36m0.99\u001b[0m      \u001b[1;36m0.99\u001b[0m      \u001b[1;36m1348\u001b[0m\n",
       "\n"
      ]
     },
     "metadata": {},
     "output_type": "display_data"
    },
    {
     "data": {
      "text/html": [
       "<pre style=\"white-space:pre;overflow-x:auto;line-height:normal;font-family:Menlo,'DejaVu Sans Mono',consolas,'Courier New',monospace\">\n",
       "--- Industry: manufacture ---\n",
       "</pre>\n"
      ],
      "text/plain": [
       "\n",
       "--- Industry: manufacture ---\n"
      ]
     },
     "metadata": {},
     "output_type": "display_data"
    },
    {
     "data": {
      "text/html": [
       "<pre style=\"white-space:pre;overflow-x:auto;line-height:normal;font-family:Menlo,'DejaVu Sans Mono',consolas,'Courier New',monospace\">Support: <span style=\"color: #008080; text-decoration-color: #008080; font-weight: bold\">3891</span>\n",
       "</pre>\n"
      ],
      "text/plain": [
       "Support: \u001b[1;36m3891\u001b[0m\n"
      ]
     },
     "metadata": {},
     "output_type": "display_data"
    },
    {
     "data": {
      "text/html": [
       "<pre style=\"white-space:pre;overflow-x:auto;line-height:normal;font-family:Menlo,'DejaVu Sans Mono',consolas,'Courier New',monospace\">ROC AUC: <span style=\"color: #008080; text-decoration-color: #008080; font-weight: bold\">0.902699747942543</span>\n",
       "</pre>\n"
      ],
      "text/plain": [
       "ROC AUC: \u001b[1;36m0.902699747942543\u001b[0m\n"
      ]
     },
     "metadata": {},
     "output_type": "display_data"
    },
    {
     "data": {
      "text/html": [
       "<pre style=\"white-space:pre;overflow-x:auto;line-height:normal;font-family:Menlo,'DejaVu Sans Mono',consolas,'Courier New',monospace\">Confusion Matrix:\n",
       "</pre>\n"
      ],
      "text/plain": [
       "Confusion Matrix:\n"
      ]
     },
     "metadata": {},
     "output_type": "display_data"
    },
    {
     "data": {
      "text/html": [
       "<pre style=\"white-space:pre;overflow-x:auto;line-height:normal;font-family:Menlo,'DejaVu Sans Mono',consolas,'Courier New',monospace\"><span style=\"font-weight: bold\">[[</span><span style=\"color: #008080; text-decoration-color: #008080; font-weight: bold\">3870</span>    <span style=\"color: #008080; text-decoration-color: #008080; font-weight: bold\">4</span><span style=\"font-weight: bold\">]</span>\n",
       " <span style=\"font-weight: bold\">[</span>  <span style=\"color: #008080; text-decoration-color: #008080; font-weight: bold\">12</span>    <span style=\"color: #008080; text-decoration-color: #008080; font-weight: bold\">5</span><span style=\"font-weight: bold\">]]</span>\n",
       "</pre>\n"
      ],
      "text/plain": [
       "\u001b[1m[\u001b[0m\u001b[1m[\u001b[0m\u001b[1;36m3870\u001b[0m    \u001b[1;36m4\u001b[0m\u001b[1m]\u001b[0m\n",
       " \u001b[1m[\u001b[0m  \u001b[1;36m12\u001b[0m    \u001b[1;36m5\u001b[0m\u001b[1m]\u001b[0m\u001b[1m]\u001b[0m\n"
      ]
     },
     "metadata": {},
     "output_type": "display_data"
    },
    {
     "data": {
      "text/html": [
       "<pre style=\"white-space:pre;overflow-x:auto;line-height:normal;font-family:Menlo,'DejaVu Sans Mono',consolas,'Courier New',monospace\">Classification Report:\n",
       "</pre>\n"
      ],
      "text/plain": [
       "Classification Report:\n"
      ]
     },
     "metadata": {},
     "output_type": "display_data"
    },
    {
     "data": {
      "text/html": [
       "<pre style=\"white-space:pre;overflow-x:auto;line-height:normal;font-family:Menlo,'DejaVu Sans Mono',consolas,'Courier New',monospace\">              precision    recall  f1-score   support\n",
       "\n",
       "           <span style=\"color: #008080; text-decoration-color: #008080; font-weight: bold\">0</span>       <span style=\"color: #008080; text-decoration-color: #008080; font-weight: bold\">1.00</span>      <span style=\"color: #008080; text-decoration-color: #008080; font-weight: bold\">1.00</span>      <span style=\"color: #008080; text-decoration-color: #008080; font-weight: bold\">1.00</span>      <span style=\"color: #008080; text-decoration-color: #008080; font-weight: bold\">3874</span>\n",
       "           <span style=\"color: #008080; text-decoration-color: #008080; font-weight: bold\">1</span>       <span style=\"color: #008080; text-decoration-color: #008080; font-weight: bold\">0.56</span>      <span style=\"color: #008080; text-decoration-color: #008080; font-weight: bold\">0.29</span>      <span style=\"color: #008080; text-decoration-color: #008080; font-weight: bold\">0.38</span>        <span style=\"color: #008080; text-decoration-color: #008080; font-weight: bold\">17</span>\n",
       "\n",
       "    accuracy                           <span style=\"color: #008080; text-decoration-color: #008080; font-weight: bold\">1.00</span>      <span style=\"color: #008080; text-decoration-color: #008080; font-weight: bold\">3891</span>\n",
       "   macro avg       <span style=\"color: #008080; text-decoration-color: #008080; font-weight: bold\">0.78</span>      <span style=\"color: #008080; text-decoration-color: #008080; font-weight: bold\">0.65</span>      <span style=\"color: #008080; text-decoration-color: #008080; font-weight: bold\">0.69</span>      <span style=\"color: #008080; text-decoration-color: #008080; font-weight: bold\">3891</span>\n",
       "weighted avg       <span style=\"color: #008080; text-decoration-color: #008080; font-weight: bold\">0.99</span>      <span style=\"color: #008080; text-decoration-color: #008080; font-weight: bold\">1.00</span>      <span style=\"color: #008080; text-decoration-color: #008080; font-weight: bold\">1.00</span>      <span style=\"color: #008080; text-decoration-color: #008080; font-weight: bold\">3891</span>\n",
       "\n",
       "</pre>\n"
      ],
      "text/plain": [
       "              precision    recall  f1-score   support\n",
       "\n",
       "           \u001b[1;36m0\u001b[0m       \u001b[1;36m1.00\u001b[0m      \u001b[1;36m1.00\u001b[0m      \u001b[1;36m1.00\u001b[0m      \u001b[1;36m3874\u001b[0m\n",
       "           \u001b[1;36m1\u001b[0m       \u001b[1;36m0.56\u001b[0m      \u001b[1;36m0.29\u001b[0m      \u001b[1;36m0.38\u001b[0m        \u001b[1;36m17\u001b[0m\n",
       "\n",
       "    accuracy                           \u001b[1;36m1.00\u001b[0m      \u001b[1;36m3891\u001b[0m\n",
       "   macro avg       \u001b[1;36m0.78\u001b[0m      \u001b[1;36m0.65\u001b[0m      \u001b[1;36m0.69\u001b[0m      \u001b[1;36m3891\u001b[0m\n",
       "weighted avg       \u001b[1;36m0.99\u001b[0m      \u001b[1;36m1.00\u001b[0m      \u001b[1;36m1.00\u001b[0m      \u001b[1;36m3891\u001b[0m\n",
       "\n"
      ]
     },
     "metadata": {},
     "output_type": "display_data"
    },
    {
     "data": {
      "text/html": [
       "<pre style=\"white-space:pre;overflow-x:auto;line-height:normal;font-family:Menlo,'DejaVu Sans Mono',consolas,'Courier New',monospace\">\n",
       "--- Industry: retail ---\n",
       "</pre>\n"
      ],
      "text/plain": [
       "\n",
       "--- Industry: retail ---\n"
      ]
     },
     "metadata": {},
     "output_type": "display_data"
    },
    {
     "data": {
      "text/html": [
       "<pre style=\"white-space:pre;overflow-x:auto;line-height:normal;font-family:Menlo,'DejaVu Sans Mono',consolas,'Courier New',monospace\">Support: <span style=\"color: #008080; text-decoration-color: #008080; font-weight: bold\">3866</span>\n",
       "</pre>\n"
      ],
      "text/plain": [
       "Support: \u001b[1;36m3866\u001b[0m\n"
      ]
     },
     "metadata": {},
     "output_type": "display_data"
    },
    {
     "data": {
      "text/html": [
       "<pre style=\"white-space:pre;overflow-x:auto;line-height:normal;font-family:Menlo,'DejaVu Sans Mono',consolas,'Courier New',monospace\">ROC AUC: <span style=\"color: #008080; text-decoration-color: #008080; font-weight: bold\">0.8872756604154063</span>\n",
       "</pre>\n"
      ],
      "text/plain": [
       "ROC AUC: \u001b[1;36m0.8872756604154063\u001b[0m\n"
      ]
     },
     "metadata": {},
     "output_type": "display_data"
    },
    {
     "data": {
      "text/html": [
       "<pre style=\"white-space:pre;overflow-x:auto;line-height:normal;font-family:Menlo,'DejaVu Sans Mono',consolas,'Courier New',monospace\">Confusion Matrix:\n",
       "</pre>\n"
      ],
      "text/plain": [
       "Confusion Matrix:\n"
      ]
     },
     "metadata": {},
     "output_type": "display_data"
    },
    {
     "data": {
      "text/html": [
       "<pre style=\"white-space:pre;overflow-x:auto;line-height:normal;font-family:Menlo,'DejaVu Sans Mono',consolas,'Courier New',monospace\"><span style=\"font-weight: bold\">[[</span><span style=\"color: #008080; text-decoration-color: #008080; font-weight: bold\">3857</span>    <span style=\"color: #008080; text-decoration-color: #008080; font-weight: bold\">0</span><span style=\"font-weight: bold\">]</span>\n",
       " <span style=\"font-weight: bold\">[</span>   <span style=\"color: #008080; text-decoration-color: #008080; font-weight: bold\">7</span>    <span style=\"color: #008080; text-decoration-color: #008080; font-weight: bold\">2</span><span style=\"font-weight: bold\">]]</span>\n",
       "</pre>\n"
      ],
      "text/plain": [
       "\u001b[1m[\u001b[0m\u001b[1m[\u001b[0m\u001b[1;36m3857\u001b[0m    \u001b[1;36m0\u001b[0m\u001b[1m]\u001b[0m\n",
       " \u001b[1m[\u001b[0m   \u001b[1;36m7\u001b[0m    \u001b[1;36m2\u001b[0m\u001b[1m]\u001b[0m\u001b[1m]\u001b[0m\n"
      ]
     },
     "metadata": {},
     "output_type": "display_data"
    },
    {
     "data": {
      "text/html": [
       "<pre style=\"white-space:pre;overflow-x:auto;line-height:normal;font-family:Menlo,'DejaVu Sans Mono',consolas,'Courier New',monospace\">Classification Report:\n",
       "</pre>\n"
      ],
      "text/plain": [
       "Classification Report:\n"
      ]
     },
     "metadata": {},
     "output_type": "display_data"
    },
    {
     "data": {
      "text/html": [
       "<pre style=\"white-space:pre;overflow-x:auto;line-height:normal;font-family:Menlo,'DejaVu Sans Mono',consolas,'Courier New',monospace\">              precision    recall  f1-score   support\n",
       "\n",
       "           <span style=\"color: #008080; text-decoration-color: #008080; font-weight: bold\">0</span>       <span style=\"color: #008080; text-decoration-color: #008080; font-weight: bold\">1.00</span>      <span style=\"color: #008080; text-decoration-color: #008080; font-weight: bold\">1.00</span>      <span style=\"color: #008080; text-decoration-color: #008080; font-weight: bold\">1.00</span>      <span style=\"color: #008080; text-decoration-color: #008080; font-weight: bold\">3857</span>\n",
       "           <span style=\"color: #008080; text-decoration-color: #008080; font-weight: bold\">1</span>       <span style=\"color: #008080; text-decoration-color: #008080; font-weight: bold\">1.00</span>      <span style=\"color: #008080; text-decoration-color: #008080; font-weight: bold\">0.22</span>      <span style=\"color: #008080; text-decoration-color: #008080; font-weight: bold\">0.36</span>         <span style=\"color: #008080; text-decoration-color: #008080; font-weight: bold\">9</span>\n",
       "\n",
       "    accuracy                           <span style=\"color: #008080; text-decoration-color: #008080; font-weight: bold\">1.00</span>      <span style=\"color: #008080; text-decoration-color: #008080; font-weight: bold\">3866</span>\n",
       "   macro avg       <span style=\"color: #008080; text-decoration-color: #008080; font-weight: bold\">1.00</span>      <span style=\"color: #008080; text-decoration-color: #008080; font-weight: bold\">0.61</span>      <span style=\"color: #008080; text-decoration-color: #008080; font-weight: bold\">0.68</span>      <span style=\"color: #008080; text-decoration-color: #008080; font-weight: bold\">3866</span>\n",
       "weighted avg       <span style=\"color: #008080; text-decoration-color: #008080; font-weight: bold\">1.00</span>      <span style=\"color: #008080; text-decoration-color: #008080; font-weight: bold\">1.00</span>      <span style=\"color: #008080; text-decoration-color: #008080; font-weight: bold\">1.00</span>      <span style=\"color: #008080; text-decoration-color: #008080; font-weight: bold\">3866</span>\n",
       "\n",
       "</pre>\n"
      ],
      "text/plain": [
       "              precision    recall  f1-score   support\n",
       "\n",
       "           \u001b[1;36m0\u001b[0m       \u001b[1;36m1.00\u001b[0m      \u001b[1;36m1.00\u001b[0m      \u001b[1;36m1.00\u001b[0m      \u001b[1;36m3857\u001b[0m\n",
       "           \u001b[1;36m1\u001b[0m       \u001b[1;36m1.00\u001b[0m      \u001b[1;36m0.22\u001b[0m      \u001b[1;36m0.36\u001b[0m         \u001b[1;36m9\u001b[0m\n",
       "\n",
       "    accuracy                           \u001b[1;36m1.00\u001b[0m      \u001b[1;36m3866\u001b[0m\n",
       "   macro avg       \u001b[1;36m1.00\u001b[0m      \u001b[1;36m0.61\u001b[0m      \u001b[1;36m0.68\u001b[0m      \u001b[1;36m3866\u001b[0m\n",
       "weighted avg       \u001b[1;36m1.00\u001b[0m      \u001b[1;36m1.00\u001b[0m      \u001b[1;36m1.00\u001b[0m      \u001b[1;36m3866\u001b[0m\n",
       "\n"
      ]
     },
     "metadata": {},
     "output_type": "display_data"
    }
   ],
   "source": [
    "\n",
    "def build_and_evaluate_model(df: pd.DataFrame) -> tuple:\n",
    "    \"\"\"Build and evaluate an XGBoost classifier on the provided DataFrame.\n",
    "\n",
    "    Performs median imputation on missing values, splits the data using stratified\n",
    "    sampling to maintain class imbalance, computes the appropriate scale_pos_weight,\n",
    "    and validates the model using stratified cross-validation. Also tunes the decision\n",
    "    threshold based on the F1 score.\n",
    "\n",
    "    Args:\n",
    "        df (pd.DataFrame): DataFrame containing feature columns and a target column\n",
    "                           'bankruptcy_label'.\n",
    "\n",
    "    Returns:\n",
    "        tuple: (X_test with industry info, y_test, y_pred_proba from the test set)\n",
    "    \"\"\"\n",
    "    X = df.drop(columns=[\"bankruptcy_label\"])\n",
    "    y = df[\"bankruptcy_label\"]\n",
    "\n",
    "    negatives = (y == 0).sum()\n",
    "    positives = (y == 1).sum()\n",
    "    scale_pos_weight = negatives / positives\n",
    "\n",
    "    X_train, X_test, y_train, y_test = train_test_split(\n",
    "        X, y, stratify=y, test_size=0.2, random_state=42\n",
    "    )\n",
    "\n",
    "    pipeline = Pipeline([\n",
    "        (\"imputer\", SimpleImputer(strategy=\"median\")),\n",
    "        (\"classifier\", xgb.XGBClassifier(\n",
    "            scale_pos_weight=scale_pos_weight,\n",
    "            eval_metric=\"auc\",\n",
    "            random_state=42,\n",
    "            n_jobs=-1\n",
    "        ))\n",
    "    ])\n",
    "\n",
    "    cv = StratifiedKFold(n_splits=5, shuffle=True, random_state=42)\n",
    "    cv_scores = cross_val_score(\n",
    "        pipeline, X_train, y_train, cv=cv, scoring=\"roc_auc\", n_jobs=-1\n",
    "    )\n",
    "\n",
    "    pipeline.fit(X_train, y_train)\n",
    "\n",
    "    y_pred_proba = pipeline.predict_proba(X_test)[:, 1]\n",
    "    y_pred = pipeline.predict(X_test)\n",
    "    test_auc = roc_auc_score(y_test, y_pred_proba)\n",
    "\n",
    "    precision, recall, thresholds = precision_recall_curve(y_test, y_pred_proba)\n",
    "    f1_scores = 2 * precision * recall / (precision + recall + 1e-8)\n",
    "    optimal_idx = np.argmax(f1_scores)\n",
    "    optimal_threshold = thresholds[optimal_idx] if optimal_idx < len(thresholds) else 0.5\n",
    "    y_pred_optimal = (y_pred_proba >= optimal_threshold).astype(int)\n",
    "\n",
    "    print(\"Cross-validation AUC scores:\", cv_scores)\n",
    "    print(\"Mean CV AUC score:\", cv_scores.mean())\n",
    "    print(\"Test AUC score:\", test_auc)\n",
    "    print(\"Optimal threshold based on F1 score:\", optimal_threshold)\n",
    "    print(\"Confusion Matrix (default threshold):\\n\", confusion_matrix(y_test, y_pred))\n",
    "    print(\"Classification Report (default threshold):\\n\", classification_report(y_test, y_pred))\n",
    "    print(\"Confusion Matrix (optimal threshold):\\n\", confusion_matrix(y_test, y_pred_optimal))\n",
    "    print(\"Classification Report (optimal threshold):\\n\", classification_report(y_test, y_pred_optimal))\n",
    "\n",
    "    return X_test, y_test, y_pred_proba\n",
    "\n",
    "\n",
    "def evaluate_by_industry(X_test: pd.DataFrame, y_test: pd.Series, y_pred_proba: np.ndarray,\n",
    "                         threshold: float = 0.5) -> None:\n",
    "    \"\"\"Evaluate and print model performance metrics per industry.\n",
    "\n",
    "    Derives an 'industry' column from one-hot encoded industry columns and groups the\n",
    "    test set by industry. For each industry, it prints the support, ROC AUC, confusion\n",
    "    matrix, and classification report.\n",
    "\n",
    "    Args:\n",
    "        X_test (pd.DataFrame): Test features DataFrame including industry one-hot columns.\n",
    "        y_test (pd.Series): True labels for the test set.\n",
    "        y_pred_proba (np.ndarray): Predicted probabilities for the positive class.\n",
    "        threshold (float): Decision threshold for converting probabilities to class labels.\n",
    "    \"\"\"\n",
    "    # Determine industry label from one-hot columns.\n",
    "    def get_industry(row: pd.Series) -> str:\n",
    "        if row.get(\"industry_agriculture\", 0) == 1:\n",
    "            return \"agriculture\"\n",
    "        if row.get(\"industry_construction\", 0) == 1:\n",
    "            return \"construction\"\n",
    "        if row.get(\"industry_manufacture\", 0) == 1:\n",
    "            return \"manufacture\"\n",
    "        if row.get(\"industry_retail\", 0) == 1:\n",
    "            return \"retail\"\n",
    "        return \"unknown\"\n",
    "\n",
    "    industries = X_test.apply(get_industry, axis=1)\n",
    "    # Compute predicted labels based on the chosen threshold.\n",
    "    y_pred = (y_pred_proba >= threshold).astype(int)\n",
    "    eval_df = pd.DataFrame({\n",
    "        \"industry\": industries,\n",
    "        \"y_true\": y_test.values,\n",
    "        \"y_pred\": y_pred,\n",
    "        \"y_pred_proba\": y_pred_proba\n",
    "    })\n",
    "\n",
    "    for industry, group in eval_df.groupby(\"industry\"):\n",
    "        print(f\"\\n--- Industry: {industry} ---\")\n",
    "        print(\"Support:\", len(group))\n",
    "        try:\n",
    "            industry_auc = roc_auc_score(group[\"y_true\"], group[\"y_pred_proba\"])\n",
    "        except Exception as err:\n",
    "            industry_auc = None\n",
    "        print(\"ROC AUC:\", industry_auc)\n",
    "        print(\"Confusion Matrix:\")\n",
    "        print(confusion_matrix(group[\"y_true\"], group[\"y_pred\"]))\n",
    "        print(\"Classification Report:\")\n",
    "        print(classification_report(group[\"y_true\"], group[\"y_pred\"]))\n",
    "\n",
    "\n",
    "X_test, y_test, y_pred_proba = build_and_evaluate_model(combined_df)\n",
    "evaluate_by_industry(X_test, y_test, y_pred_proba, threshold=0.5)\n"
   ]
  }
 ],
 "metadata": {
  "kernelspec": {
   "display_name": "applied-statistics-exam",
   "language": "python",
   "name": "applied-statistics-exam"
  },
  "language_info": {
   "codemirror_mode": {
    "name": "ipython",
    "version": 3
   },
   "file_extension": ".py",
   "mimetype": "text/x-python",
   "name": "python",
   "nbconvert_exporter": "python",
   "pygments_lexer": "ipython3",
   "version": "3.8.10"
  }
 },
 "nbformat": 4,
 "nbformat_minor": 2
}
